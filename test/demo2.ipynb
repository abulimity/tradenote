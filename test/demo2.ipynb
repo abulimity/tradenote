{
 "cells": [
  {
   "cell_type": "code",
   "execution_count": 1,
   "id": "cfbeba9f1a6be20e",
   "metadata": {},
   "outputs": [
    {
     "name": "stderr",
     "output_type": "stream",
     "text": [
      "[13716:MainThread](2025-06-17 12:56:46,700) INFO - qlib.Initialization - [config.py:420] - default_conf: client.\n",
      "[13716:MainThread](2025-06-17 12:56:50,013) INFO - qlib.Initialization - [__init__.py:74] - qlib successfully initialized based on client settings.\n",
      "[13716:MainThread](2025-06-17 12:56:50,014) INFO - qlib.Initialization - [__init__.py:76] - data_path={'__DEFAULT_FREQ': WindowsPath('C:/Users/abulimity/.qlib/qlib_data/cn_data')}\n"
     ]
    }
   ],
   "source": [
    "import qlib\n",
    "# region in [REG_CN, REG_US]\n",
    "from qlib.constant import REG_CN\n",
    "provider_uri = \"d:/sync/qlib/qlib_data/cn_data\"  # target_dir\n",
    "qlib.init(provider_uri=provider_uri, region=REG_CN)"
   ]
  }
 ],
 "metadata": {
  "kernelspec": {
   "display_name": ".venv",
   "language": "python",
   "name": "python3"
  },
  "language_info": {
   "codemirror_mode": {
    "name": "ipython",
    "version": 3
   },
   "file_extension": ".py",
   "mimetype": "text/x-python",
   "name": "python",
   "nbconvert_exporter": "python",
   "pygments_lexer": "ipython3",
   "version": "3.12.11"
  }
 },
 "nbformat": 4,
 "nbformat_minor": 5
}
