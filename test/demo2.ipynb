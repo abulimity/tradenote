{
 "cells": [
  {
   "cell_type": "code",
   "execution_count": 4,
   "id": "6acb4a77",
   "metadata": {},
   "outputs": [
    {
     "name": "stderr",
     "output_type": "stream",
     "text": [
      "[5344:MainThread](2025-06-18 14:41:03,895) INFO - qlib.Initialization - [config.py:420] - default_conf: client.\n",
      "[5344:MainThread](2025-06-18 14:41:03,900) INFO - qlib.Initialization - [__init__.py:74] - qlib successfully initialized based on client settings.\n",
      "[5344:MainThread](2025-06-18 14:41:03,903) INFO - qlib.Initialization - [__init__.py:76] - data_path={'__DEFAULT_FREQ': WindowsPath('D:/sync/qlib/qlib_data/cn_data')}\n"
     ]
    }
   ],
   "source": [
    "import qlib\n",
    "qlib.init(provider_uri=\"D:/sync/qlib/qlib_data/cn_data\", region=\"cn\")"
   ]
  },
  {
   "cell_type": "code",
   "execution_count": 12,
   "id": "295df9af",
   "metadata": {},
   "outputs": [
    {
     "data": {
      "text/plain": [
       "array([Timestamp('2020-09-21 00:00:00'), Timestamp('2020-09-22 00:00:00'),\n",
       "       Timestamp('2020-09-23 00:00:00'), Timestamp('2020-09-24 00:00:00'),\n",
       "       Timestamp('2020-09-25 00:00:00')], dtype=object)"
      ]
     },
     "execution_count": 12,
     "metadata": {},
     "output_type": "execute_result"
    }
   ],
   "source": [
    "from qlib.data import D\n",
    "D.calendar(start_time='2020-09-21', end_time='2020-10-30', freq='day')"
   ]
  }
 ],
 "metadata": {
  "kernelspec": {
   "display_name": ".venv",
   "language": "python",
   "name": "python3"
  },
  "language_info": {
   "codemirror_mode": {
    "name": "ipython",
    "version": 3
   },
   "file_extension": ".py",
   "mimetype": "text/x-python",
   "name": "python",
   "nbconvert_exporter": "python",
   "pygments_lexer": "ipython3",
   "version": "3.12.11"
  }
 },
 "nbformat": 4,
 "nbformat_minor": 5
}
