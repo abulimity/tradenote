{
 "cells": [
  {
   "cell_type": "code",
   "execution_count": 12,
   "id": "6acb4a77",
   "metadata": {},
   "outputs": [
    {
     "name": "stderr",
     "output_type": "stream",
     "text": [
      "[13736:MainThread](2025-06-19 15:30:19,504) INFO - qlib.Initialization - [config.py:420] - default_conf: client.\n",
      "[13736:MainThread](2025-06-19 15:30:19,506) INFO - qlib.Initialization - [__init__.py:74] - qlib successfully initialized based on client settings.\n",
      "[13736:MainThread](2025-06-19 15:30:19,508) INFO - qlib.Initialization - [__init__.py:76] - data_path={'__DEFAULT_FREQ': WindowsPath('D:/sync/qlib/qlib_data/cn_data')}\n"
     ]
    }
   ],
   "source": [
    "import qlib\n",
    "qlib.init(provider_uri=r\"D:\\sync\\qlib\\qlib_data\\cn_data\", region=\"cn\")"
   ]
  },
  {
   "cell_type": "code",
   "execution_count": 14,
   "id": "295df9af",
   "metadata": {},
   "outputs": [
    {
     "data": {
      "text/plain": [
       "array([Timestamp('2017-01-03 00:00:00'), Timestamp('2017-01-04 00:00:00'),\n",
       "       Timestamp('2017-01-05 00:00:00'), Timestamp('2017-01-06 00:00:00'),\n",
       "       Timestamp('2017-01-09 00:00:00')], dtype=object)"
      ]
     },
     "execution_count": 14,
     "metadata": {},
     "output_type": "execute_result"
    }
   ],
   "source": [
    "from qlib.data import D\n",
    "D.calendar(start_time=\"2017-01-01\", end_time=\"2020-08-01\",freq=\"day\")[:5]"
   ]
  },
  {
   "cell_type": "code",
   "execution_count": 24,
   "id": "da009afa",
   "metadata": {},
   "outputs": [
    {
     "data": {
      "text/html": [
       "<div>\n",
       "<style scoped>\n",
       "    .dataframe tbody tr th:only-of-type {\n",
       "        vertical-align: middle;\n",
       "    }\n",
       "\n",
       "    .dataframe tbody tr th {\n",
       "        vertical-align: top;\n",
       "    }\n",
       "\n",
       "    .dataframe thead th {\n",
       "        text-align: right;\n",
       "    }\n",
       "</style>\n",
       "<table border=\"1\" class=\"dataframe\">\n",
       "  <thead>\n",
       "    <tr style=\"text-align: right;\">\n",
       "      <th></th>\n",
       "      <th></th>\n",
       "      <th>$close</th>\n",
       "      <th>$open</th>\n",
       "      <th>$high</th>\n",
       "      <th>$low</th>\n",
       "      <th>$volume</th>\n",
       "    </tr>\n",
       "    <tr>\n",
       "      <th>instrument</th>\n",
       "      <th>datetime</th>\n",
       "      <th></th>\n",
       "      <th></th>\n",
       "      <th></th>\n",
       "      <th></th>\n",
       "      <th></th>\n",
       "    </tr>\n",
       "  </thead>\n",
       "  <tbody>\n",
       "    <tr>\n",
       "      <th rowspan=\"11\" valign=\"top\">SZ000858</th>\n",
       "      <th>2017-01-03</th>\n",
       "      <td>11.301954</td>\n",
       "      <td>11.243259</td>\n",
       "      <td>11.373693</td>\n",
       "      <td>11.184565</td>\n",
       "      <td>47640796.0</td>\n",
       "    </tr>\n",
       "    <tr>\n",
       "      <th>2017-01-04</th>\n",
       "      <td>11.706295</td>\n",
       "      <td>11.301954</td>\n",
       "      <td>11.722599</td>\n",
       "      <td>11.266086</td>\n",
       "      <td>141233984.0</td>\n",
       "    </tr>\n",
       "    <tr>\n",
       "      <th>2017-01-05</th>\n",
       "      <td>11.716078</td>\n",
       "      <td>11.748685</td>\n",
       "      <td>11.817163</td>\n",
       "      <td>11.641079</td>\n",
       "      <td>79170360.0</td>\n",
       "    </tr>\n",
       "    <tr>\n",
       "      <th>2017-01-06</th>\n",
       "      <td>11.771510</td>\n",
       "      <td>11.716077</td>\n",
       "      <td>11.934550</td>\n",
       "      <td>11.660643</td>\n",
       "      <td>103201592.0</td>\n",
       "    </tr>\n",
       "    <tr>\n",
       "      <th>2017-01-09</th>\n",
       "      <td>11.885638</td>\n",
       "      <td>11.738902</td>\n",
       "      <td>11.999766</td>\n",
       "      <td>11.716077</td>\n",
       "      <td>81857808.0</td>\n",
       "    </tr>\n",
       "    <tr>\n",
       "      <th>...</th>\n",
       "      <td>...</td>\n",
       "      <td>...</td>\n",
       "      <td>...</td>\n",
       "      <td>...</td>\n",
       "      <td>...</td>\n",
       "    </tr>\n",
       "    <tr>\n",
       "      <th>2020-07-27</th>\n",
       "      <td>71.358727</td>\n",
       "      <td>71.110489</td>\n",
       "      <td>72.302719</td>\n",
       "      <td>70.418228</td>\n",
       "      <td>69948368.0</td>\n",
       "    </tr>\n",
       "    <tr>\n",
       "      <th>2020-07-28</th>\n",
       "      <td>74.816528</td>\n",
       "      <td>71.984558</td>\n",
       "      <td>75.847931</td>\n",
       "      <td>71.558014</td>\n",
       "      <td>108913296.0</td>\n",
       "    </tr>\n",
       "    <tr>\n",
       "      <th>2020-07-29</th>\n",
       "      <td>75.173149</td>\n",
       "      <td>74.942398</td>\n",
       "      <td>75.337471</td>\n",
       "      <td>73.075386</td>\n",
       "      <td>85012816.0</td>\n",
       "    </tr>\n",
       "    <tr>\n",
       "      <th>2020-07-30</th>\n",
       "      <td>75.704582</td>\n",
       "      <td>74.820023</td>\n",
       "      <td>76.236015</td>\n",
       "      <td>74.470398</td>\n",
       "      <td>71618128.0</td>\n",
       "    </tr>\n",
       "    <tr>\n",
       "      <th>2020-07-31</th>\n",
       "      <td>76.054207</td>\n",
       "      <td>75.697586</td>\n",
       "      <td>77.270905</td>\n",
       "      <td>74.917923</td>\n",
       "      <td>74252152.0</td>\n",
       "    </tr>\n",
       "  </tbody>\n",
       "</table>\n",
       "<p>871 rows × 5 columns</p>\n",
       "</div>"
      ],
      "text/plain": [
       "                          $close      $open      $high       $low      $volume\n",
       "instrument datetime                                                           \n",
       "SZ000858   2017-01-03  11.301954  11.243259  11.373693  11.184565   47640796.0\n",
       "           2017-01-04  11.706295  11.301954  11.722599  11.266086  141233984.0\n",
       "           2017-01-05  11.716078  11.748685  11.817163  11.641079   79170360.0\n",
       "           2017-01-06  11.771510  11.716077  11.934550  11.660643  103201592.0\n",
       "           2017-01-09  11.885638  11.738902  11.999766  11.716077   81857808.0\n",
       "...                          ...        ...        ...        ...          ...\n",
       "           2020-07-27  71.358727  71.110489  72.302719  70.418228   69948368.0\n",
       "           2020-07-28  74.816528  71.984558  75.847931  71.558014  108913296.0\n",
       "           2020-07-29  75.173149  74.942398  75.337471  73.075386   85012816.0\n",
       "           2020-07-30  75.704582  74.820023  76.236015  74.470398   71618128.0\n",
       "           2020-07-31  76.054207  75.697586  77.270905  74.917923   74252152.0\n",
       "\n",
       "[871 rows x 5 columns]"
      ]
     },
     "execution_count": 24,
     "metadata": {},
     "output_type": "execute_result"
    }
   ],
   "source": [
    "D.features([\"SZ000858\"], [\"$close\", \"$open\", \"$high\", \"$low\", \"$volume\"], start_time=\"2017-01-01\", end_time=\"2020-08-01\")"
   ]
  }
 ],
 "metadata": {
  "kernelspec": {
   "display_name": ".venv",
   "language": "python",
   "name": "python3"
  },
  "language_info": {
   "codemirror_mode": {
    "name": "ipython",
    "version": 3
   },
   "file_extension": ".py",
   "mimetype": "text/x-python",
   "name": "python",
   "nbconvert_exporter": "python",
   "pygments_lexer": "ipython3",
   "version": "3.12.11"
  }
 },
 "nbformat": 4,
 "nbformat_minor": 5
}
